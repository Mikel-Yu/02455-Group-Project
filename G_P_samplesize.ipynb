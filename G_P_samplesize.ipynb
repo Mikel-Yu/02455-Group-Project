{
 "cells": [
  {
   "cell_type": "code",
   "execution_count": 9,
   "metadata": {},
   "outputs": [],
   "source": [
    "from sympy import *"
   ]
  },
  {
   "cell_type": "code",
   "execution_count": 7,
   "metadata": {},
   "outputs": [
    {
     "data": {
      "text/plain": [
       "97.99999999999997"
      ]
     },
     "execution_count": 7,
     "metadata": {},
     "output_type": "execute_result"
    }
   ],
   "source": [
    "# p from pilot studies\n",
    "p1 = 0.3\n",
    "p2 = 0.5\n",
    "p = 0.5\n",
    "\n",
    "Z_beta = 0.84 # 80 % power\n",
    "Z_alpha = 1.96 # 95 % confidence\n",
    "\n",
    "n = (2 * p * (1 - p)*(Z_beta + Z_alpha)**2) / (p1 - p2)**2\n",
    "n"
   ]
  },
  {
   "cell_type": "code",
   "execution_count": 13,
   "metadata": {},
   "outputs": [
    {
     "data": {
      "text/latex": [
       "$\\displaystyle 2.49421149026402$"
      ],
      "text/plain": [
       "2.49421149026402"
      ]
     },
     "execution_count": 13,
     "metadata": {},
     "output_type": "execute_result"
    }
   ],
   "source": [
    "Z = sqrt(248*(p1-p2)**2 / (2*p*(1-p))) - Z_alpha\n",
    "Z"
   ]
  }
 ],
 "metadata": {
  "kernelspec": {
   "display_name": "Python 3",
   "language": "python",
   "name": "python3"
  },
  "language_info": {
   "codemirror_mode": {
    "name": "ipython",
    "version": 3
   },
   "file_extension": ".py",
   "mimetype": "text/x-python",
   "name": "python",
   "nbconvert_exporter": "python",
   "pygments_lexer": "ipython3",
   "version": "3.11.5"
  }
 },
 "nbformat": 4,
 "nbformat_minor": 2
}
